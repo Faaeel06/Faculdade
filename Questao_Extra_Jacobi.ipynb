{
 "cells": [
  {
   "cell_type": "code",
   "execution_count": null,
   "metadata": {},
   "outputs": [],
   "source": [
    "import numpy as np\n",
    "import math\n",
    "import copy"
   ]
  },
  {
   "cell_type": "code",
   "execution_count": null,
   "metadata": {},
   "outputs": [],
   "source": [
    "A = np.array([[80.0, 0.0, 30.0, 10.0],\n",
    "             [0.0, 80.0, 10.0, 10.0],\n",
    "             [16.0, 20.0, 60.0, 72.0],\n",
    "             [4.0, 0.0, 0.0, 8.0]])\n",
    "\n",
    "B = np.array([40.0, 27.0, 31.0, 2.0])"
   ]
  },
  {
   "cell_type": "code",
   "execution_count": null,
   "metadata": {},
   "outputs": [],
   "source": [
    "def comparar(x,v,eps):\n",
    "  soma = 0\n",
    "  zip_object = zip(x, v)\n",
    "  for l1_i, l2_i in zip_object:\n",
    "    soma = soma + math.fabs(l1_i - l2_i)\n",
    "\n",
    "  if (soma < eps):\n",
    "    return True\n",
    "  else:\n",
    "    return False"
   ]
  },
  {
   "cell_type": "code",
   "execution_count": null,
   "metadata": {},
   "outputs": [],
   "source": [
    "def jacobi(A,B,maxiter,eps):\n",
    "  a = A.copy()\n",
    "  b = B.copy()\n",
    "  n = len(b)\n",
    "  sol = True\n",
    "  x = b.copy()\n",
    "  for i in range(0,n):\n",
    "    if (math.fabs(a[i][i]) > 0.0):\n",
    "      b[i] = b[i]/a[i][i]\n",
    "      x[i] = b[i]\n",
    "    else:\n",
    "      sol = False\n",
    "      break\n",
    "  \n",
    "  if (sol):\n",
    "    print(\"Iteração: 0\")\n",
    "    print(\"x = \",x)\n",
    "    v = x.copy()\n",
    "    iter    = 0\n",
    " \n",
    "    while (iter < maxiter):\n",
    "      iter = iter + 1\n",
    "      for i in list(range(1,n+1,1)):\n",
    "        s = 0\n",
    "        for j in list(range(1,n+1,1)):\n",
    "          if ((i-1) != (j-1)):\n",
    "            s = s + a[i-1][j-1]*x[j-1]\n",
    "\n",
    "        v[i-1] = (1/a[i-1][i-1])*(b[i-1]-s)\n",
    "     \n",
    "      print(\"Iteração: \",iter)\n",
    "      print(\"v = \",v)\n",
    "      if comparar(x,v,eps):\n",
    "        x = v.copy()\n",
    "        break    \n",
    "      x = v.copy()\n",
    "     \n",
    "   \n",
    "  return x"
   ]
  },
  {
   "cell_type": "code",
   "execution_count": null,
   "metadata": {},
   "outputs": [],
   "source": [
    "jacobi(A, B, 50, 0.005)"
   ]
  }
 ],
 "metadata": {
  "interpreter": {
   "hash": "1ca5f530d3b3910b8e113408e3f5b786a0fc61403a8e1b66fb3f263db0dffa71"
  },
  "kernelspec": {
   "display_name": "Python 3.10.0 ('venv': venv)",
   "language": "python",
   "name": "python3"
  },
  "language_info": {
   "codemirror_mode": {
    "name": "ipython",
    "version": 3
   },
   "file_extension": ".py",
   "mimetype": "text/x-python",
   "name": "python",
   "nbconvert_exporter": "python",
   "pygments_lexer": "ipython3",
   "version": "3.10.0"
  },
  "orig_nbformat": 4
 },
 "nbformat": 4,
 "nbformat_minor": 2
}
