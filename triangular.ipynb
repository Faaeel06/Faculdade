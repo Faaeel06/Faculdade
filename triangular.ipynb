{
  "cells": [
    {
      "cell_type": "markdown",
      "metadata": {
        "id": "yK7cGtTMIobp"
      },
      "source": [
        "# Métodos das Substituições para Sistemas Triangulares\n",
        "## Objetivos\n",
        "Os objetivos desse notebook são dois:\n",
        "1. Implementar o método das substituições retroativas e testá-lo.\n",
        "\n",
        "2. Implementar o método das substituições sucessivas e testá-lo.\n",
        " \n",
        "\n",
        "## Implementação\n",
        "Nós iremos implementar os algoritmos parte por parte, de acordo com as estratégias mostradas no vídeo. As instruções estão nos comentários nas funções abaixo. Você só precisa editar onde estiver indicado. \n",
        "\n",
        "Para executar uma célula, selecione a célula e pressione ```Ctrl + Enter```. Após implementar as funções abaixo, você deve executar cada uma das células, preferencialmente na ordem em que elas aparecem.\n"
      ]
    },
    {
      "cell_type": "markdown",
      "metadata": {
        "id": "rrk8d3NPIobr"
      },
      "source": [
        "### Método das Substituições Retroativas\n",
        "\n",
        "$\n",
        "x_i = \\frac{b_i - \\displaystyle \\sum_{j=i+1}^{n} a_{ij}x_j}{a_{ii}}, i = n, n-1, \\dots, 1.\n",
        "$"
      ]
    },
    {
      "cell_type": "code",
      "execution_count": 1,
      "metadata": {
        "id": "DTAiSDTXIobr"
      },
      "outputs": [],
      "source": [
        "def substituicoes_retroativas(a, b):\n",
        "\n",
        "   n = len(a)\n",
        "   x = n * [0] \n",
        "    \n",
        "   for i in range(n-1, -1, -1):\n",
        "      s = 0\n",
        "      for j in range(i+1, n):\n",
        "            s = s + (a[i][j] * x[j])\n",
        "      x[i] = (b[i] - s)/a[i][i]\n",
        "\n",
        "   return x"
      ]
    },
    {
      "cell_type": "markdown",
      "metadata": {
        "id": "qJaIIokoIobv"
      },
      "source": [
        "Agora precisamos testar se a função está implementada corretamente. Iremos usar o exemplo mostrado no vídeo passado."
      ]
    },
    {
      "cell_type": "code",
      "execution_count": 2,
      "metadata": {
        "id": "1541d-YNIobv"
      },
      "outputs": [
        {
          "name": "stdout",
          "output_type": "stream",
          "text": [
            "[0.3875, 0.2791666666666667, 0.21666666666666667, 0.25]\n"
          ]
        }
      ],
      "source": [
        "a = [[80.0, 0.0, 30.0, 10.0],\n",
        "     [0.0, 80.0, 10.0, 10.0],\n",
        "     [16.0, 20.0, 60.0, 72.0],\n",
        "     [4.0, 0.0, 0.0, 8.0]]\n",
        "b = [40.0, 27.0, 31.0, 2.0]\n",
        "x = substituicoes_retroativas(a,b)\n",
        "print(x)"
      ]
    },
    {
      "cell_type": "markdown",
      "metadata": {
        "id": "w3zseJnkIoby"
      },
      "source": [
        "Se estiver tudo ok, ao executar a célula acima, você deve ver a resposta:\n",
        "```\n",
        "[-3.0, 0.0, 2.0, 4.0]\n",
        "```\n",
        "\n",
        "#### Exercício:\n",
        "Na célula abaixo, resolva o seguinte exercício:\n",
        "\n",
        "$\\begin{cases}\n",
        "2x_1+2x_2+3x_3+4x_4 = 20\\\\\n",
        "5x_2+6x_3+7x_4 = 34\\\\\n",
        "8x_3 + 9x_4 = 25\\\\\n",
        "10x_4=10\n",
        "\\end{cases}$"
      ]
    },
    {
      "cell_type": "code",
      "execution_count": null,
      "metadata": {
        "id": "hpjqjf9aIoby"
      },
      "outputs": [],
      "source": [
        "## Defina a matriz A e o vetor b e chame a função substituicoes_retroativas\n",
        "# Escreva o seu código aqui"
      ]
    },
    {
      "cell_type": "markdown",
      "metadata": {
        "id": "cW01vkkh9zQG"
      },
      "source": [
        "Se o seu código estiver certo você deve ver a resposta:\n",
        "\n",
        "```\n",
        "[2.0, 3.0, 2.0, 1.0]\n",
        "```"
      ]
    },
    {
      "cell_type": "markdown",
      "metadata": {
        "id": "kWJPwW2jIob3"
      },
      "source": [
        "### Método das Substituições Sucessivas\n",
        "Apesar do método de Gauss não utilizar esse método, iremos precisar dele quando estudarmos a fatoração LU.\n",
        "\n",
        "$\n",
        "x_i = \\frac{b_i - \\displaystyle \\sum_{j=1}^{i-1} a_{ij}x_j}{a_{ii}}, i = 1, 2, \\dots, n.\n",
        "$"
      ]
    },
    {
      "cell_type": "code",
      "execution_count": null,
      "metadata": {
        "id": "v05wAZreIob4"
      },
      "outputs": [],
      "source": [
        "def substituicoes_sucessivas(A, b):\n",
        "    '''Executa o método das substituições sucessivas para resolver o sistema \n",
        "       linear triangular inferior Ax=b.\n",
        "       Parâmetros de entrada: A é uma matriz triangular inferior e b é o vetor constante. \n",
        "    '''\n",
        "    ## n é a ordem da matriz A\n",
        "    n = len(A)\n",
        "    \n",
        "    ## inicializa o vetor x com tamanho n e elementos iguais a 0\n",
        "    x = n * [0] \n",
        "    \n",
        "    # escreva o seu código aqui\n",
        "    \n",
        "    return x"
      ]
    },
    {
      "cell_type": "markdown",
      "metadata": {
        "id": "Zy-K74p7Iob6"
      },
      "source": [
        "Ao terminar a implementação, não se esqueça de executar a célula."
      ]
    },
    {
      "cell_type": "markdown",
      "metadata": {
        "id": "ISfEQK5EIob6"
      },
      "source": [
        "Agora precisamos testar se a função está implementada corretamente. Iremos usar o exemplo mostrado no vídeo passado."
      ]
    },
    {
      "cell_type": "code",
      "execution_count": null,
      "metadata": {
        "id": "4JKx5qMLIob7"
      },
      "outputs": [],
      "source": [
        "A = [[2, 0, 0, 0],\n",
        "      [3, 5, 0, 0],\n",
        "      [1, -6, 8, 0],\n",
        "      [-1, 4, -3, 9]]\n",
        "b = [4, 1, 48, 6]\n",
        "x = substituicoes_sucessivas(A,b)\n",
        "print(x)"
      ]
    },
    {
      "cell_type": "markdown",
      "metadata": {
        "id": "WH53WSXdIob9"
      },
      "source": [
        "Se estiver tudo ok, ao executar a célula acima, você deve ver a resposta:\n",
        "```\n",
        "[2.0, -1.0, 5.0, 3.0]\n",
        "```\n",
        "#### Exercício\n",
        "Na célula abaixo, resolva o seguinte exercício:\n",
        "\n",
        "$\n",
        "\\begin{cases} \n",
        "3x_1 = 6\\\\\n",
        "2x_1-3x_2=7\\\\\n",
        "x_1+5x_3=-8\\\\\n",
        "2x_2+4x_3-3x_4=-3\\\\\n",
        "\\end{cases}$"
      ]
    },
    {
      "cell_type": "code",
      "execution_count": null,
      "metadata": {
        "id": "VVKcuZxuIob9"
      },
      "outputs": [],
      "source": [
        "## Defina a matriz A e o vetor b e chame a função substituicoes_sucessivas\n",
        "# Escreva o seu código aqui"
      ]
    },
    {
      "cell_type": "markdown",
      "metadata": {
        "id": "1LAN_uxJ-6su"
      },
      "source": [
        "Se estiver tudo ok, ao executar a célula acima, você deve ver a resposta:\n",
        "```\n",
        "[2.0, -1.0, -2.0, -2.3333333333333335]\n",
        "```"
      ]
    }
  ],
  "metadata": {
    "colab": {
      "collapsed_sections": [],
      "name": "triangular.ipynb",
      "provenance": []
    },
    "interpreter": {
      "hash": "1ca5f530d3b3910b8e113408e3f5b786a0fc61403a8e1b66fb3f263db0dffa71"
    },
    "kernelspec": {
      "display_name": "Python 3.10.0 ('venv': venv)",
      "language": "python",
      "name": "python3"
    },
    "language_info": {
      "codemirror_mode": {
        "name": "ipython",
        "version": 3
      },
      "file_extension": ".py",
      "mimetype": "text/x-python",
      "name": "python",
      "nbconvert_exporter": "python",
      "pygments_lexer": "ipython3",
      "version": "3.10.0"
    }
  },
  "nbformat": 4,
  "nbformat_minor": 0
}
