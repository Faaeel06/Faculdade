{
  "cells": [
    {
      "cell_type": "markdown",
      "metadata": {
        "id": "yK7cGtTMIobp"
      },
      "source": [
        "# Método da Eliminação de Gauss\n",
        "## Objetivos\n",
        "Os objetivos desse notebook são dois:\n",
        "1.  Implementar o método de Gauss e testá-lo.\n",
        " \n",
        "3. Implementar o método de Gauss modificado para calcular o determinante da matriz dos coeficientes e testá-lo.\n",
        "\n",
        "## Implementação\n",
        "Nós iremos implementar os algoritmos parte por parte, de acordo com as estratégias mostradas nos vídeos. As instruções estão nos comentários nas funções abaixo. Você só precisa editar onde estiver indicado. \n",
        "\n",
        "Para executar uma célula, selecione a célula e pressione ```Ctrl + Enter```. Após implementar as funções abaixo, você deve executar cada uma das células, preferencialmente na ordem em que elas aparecem.\n"
      ]
    },
    {
      "cell_type": "markdown",
      "metadata": {
        "id": "rrk8d3NPIobr"
      },
      "source": [
        "### Método das Substituições Retroativas\n",
        "Copie aqui a sua função `substituicoes_retroativas(A, b)` que você implementou no notebook [triangular.ipynb](triangular.ipynb)."
      ]
    },
    {
      "cell_type": "code",
      "execution_count": null,
      "metadata": {
        "id": "DTAiSDTXIobr"
      },
      "outputs": [],
      "source": [
        "def substituicoes_retroativas(A, b):\n",
        "    '''Executa o método das substituições retroativas para resolver o sistema \n",
        "       linear triangular superior Ax=b.\n",
        "       Parâmetros de entrada: A é uma matriz triangular superior e b é o vetor constante. \n",
        "    '''\n",
        "    ## n é a ordem da matriz A\n",
        "    n = len(A)\n",
        "    \n",
        "    ## inicializa o vetor x com tamanho n e elementos iguais a 0\n",
        "    x = n * [0] \n",
        "    \n",
        "    # escreva o seu código aqui\n",
        "    a = A.copy()\n",
        "    b = b.copy()\n",
        "    n = len(a)\n",
        "    x = n * [0] \n",
        "    \n",
        "    for i in range(n-1, -1, -1):\n",
        "      s = 0\n",
        "      for j in range(i+1, n):\n",
        "            s = s + (a[i][j] * x[j])\n",
        "      x[i] = (b[i] - s)/a[i][i]\n",
        "\n",
        "    return print('x:', x)"
      ]
    },
    {
      "cell_type": "markdown",
      "metadata": {
        "id": "kWJPwW2jIob3"
      },
      "source": [
        "### Método de Gauss"
      ]
    },
    {
      "cell_type": "code",
      "execution_count": null,
      "metadata": {
        "id": "v05wAZreIob4"
      },
      "outputs": [],
      "source": [
        "def gauss(A, b):\n",
        "    '''Executa o método da eliminação de Gauss para resolver o sistema  linear Ax=b \n",
        "    transformando o sistema em um sistema triangular superior equivalente.\n",
        "    Parâmetros de entrada: A é uma matriz quadrada de ordem n e b é o vetor constante.\n",
        "    Saída: vetor x\n",
        "    '''\n",
        "    ## n é a ordem da matriz A\n",
        "    n = len(A)\n",
        "    ## Para cada etapa k\n",
        "    for k in range(0, n-1):\n",
        "        ## Para cada linha i\n",
        "        for i in range(k+1, n):\n",
        "            ## Calcula o fator m\n",
        "            m = - A[i][k]/A[k][k]\n",
        "            ## Atualiza a linha i da matriz, percorrendo todas as colunas j\n",
        "            for j in range(k+1, n):\n",
        "                A[i][j] = m * A[k][j] + A[i][j]\n",
        "            # Atualiza o vetor b na linha i\n",
        "            b[i] = m * b[k] + b[i]\n",
        "            ## Zera o elemento Aik\n",
        "            A[i][k] = 0\n",
        "    ## Agora resolve o sistema triangular superior usando as substituições \n",
        "    ## retroativas\n",
        "    x = substituicoes_retroativas(A, b)\n",
        "    return x"
      ]
    },
    {
      "cell_type": "markdown",
      "metadata": {
        "id": "Zy-K74p7Iob6"
      },
      "source": [
        "**Não se esqueça de executar as células de código acima!**"
      ]
    },
    {
      "cell_type": "markdown",
      "metadata": {
        "id": "ISfEQK5EIob6"
      },
      "source": [
        "Agora precisamos testar se a função está implementada corretamente. Iremos usar o exemplo mostrado no vídeo passado."
      ]
    },
    {
      "cell_type": "code",
      "execution_count": null,
      "metadata": {
        "id": "4JKx5qMLIob7"
      },
      "outputs": [],
      "source": [
        "A1 = [[1, -3, 2],\n",
        "     [-2, 8, -1],\n",
        "     [4, -6, 5]]\n",
        "b1 = [11, -15, 29]\n",
        "x = gauss(A1, b1)\n",
        "print(x)"
      ]
    },
    {
      "cell_type": "markdown",
      "metadata": {
        "id": "WH53WSXdIob9"
      },
      "source": [
        "Se estiver tudo ok, ao executar a célula acima, você deve ver a resposta:\n",
        "```\n",
        "[2.0, -1.0, 3.0]\n",
        "```\n",
        "#### Exercício\n",
        "Na célula abaixo, resolva o exercício:\n",
        "\n",
        "$\\left[\\begin{array}{rrr}\n",
        "3& 2 & 4\\\\\n",
        "1& 1 & 2\\\\\n",
        "4& 3 & -2\\\\\n",
        "\\end{array}\\right] \\left[\\begin{array}{c}\n",
        "x_1\\\\\n",
        "x_2\\\\\n",
        "x_3\\\\\n",
        "\\end{array}\\right] = \\left[\\begin{array}{r}\n",
        "1\\\\\n",
        "2\\\\\n",
        "3\\\\\n",
        "\\end{array}\\right] $"
      ]
    },
    {
      "cell_type": "code",
      "execution_count": null,
      "metadata": {
        "id": "VVKcuZxuIob9"
      },
      "outputs": [],
      "source": [
        "## Defina a matriz A e o vetor b e chame a função gauss\n",
        "# Escreva o seu código aqui"
      ]
    },
    {
      "cell_type": "markdown",
      "metadata": {
        "id": "rP6286nEIob_"
      },
      "source": [
        "### Modificação do método de Gauss para calcular o determinante\n",
        "\n",
        "Copie a função gauss acima, e depois modifique-a para calcular o determinante."
      ]
    },
    {
      "cell_type": "code",
      "execution_count": null,
      "metadata": {
        "id": "tOjWBNjuIocA"
      },
      "outputs": [],
      "source": [
        "def gauss_det(A, b):\n",
        "    '''\n",
        "    Executa o método da eliminação de Gauss para resolver o sistema  linear Ax=b \n",
        "    transformando o sistema em um sistema triangular superior equivalente.\n",
        "    Parâmetros de entrada: A é uma matriz quadrada de ordem n e b é o vetor constante.\n",
        "    Saída: tupla (x, det) contendo o vetor x e o determinante de A\n",
        "    '''\n",
        "    # código de gauss aqui...\n",
        "    \n",
        "    ## faz o cálculo do determinante antes de chamar as substituições retroativas\n",
        "    \n",
        "    # escreva o seu código aqui\n",
        "    \n",
        "    x = substituicoes_retroativas(n, A, b)\n",
        "    return (x, det)"
      ]
    },
    {
      "cell_type": "markdown",
      "metadata": {
        "id": "bHjti1jtIocC"
      },
      "source": [
        "Vamos testar a função com o exemplo mostrado no vídeo passado:\n",
        "\n",
        "$\\left[\\begin{array}{rrr}\n",
        "1& -3 & 2\\\\\n",
        "-2& 8 & -1\\\\\n",
        "4& -6 & 5\\\\\n",
        "\\end{array}\\right] \\left[\\begin{array}{c}\n",
        "x_1\\\\\n",
        "x_2\\\\\n",
        "x_3\\\\\n",
        "\\end{array}\\right] = \\left[\\begin{array}{r}\n",
        "11\\\\\n",
        "-15\\\\\n",
        "29\\\\\n",
        "\\end{array}\\right] $"
      ]
    },
    {
      "cell_type": "code",
      "execution_count": null,
      "metadata": {
        "id": "jqXmTq6KIocC"
      },
      "outputs": [],
      "source": [
        "## Defina a matriz A e o vetor b e chame a função gauss_det\n",
        "# Escreva o seu código aqui"
      ]
    },
    {
      "cell_type": "markdown",
      "metadata": {
        "id": "gL36dpu3IocE"
      },
      "source": [
        "Se tudo deu certo, você deve obter a seguinte resposta:\n",
        "\n",
        "```\n",
        "[2.0, -1.0, 3.0]  -24.0\n",
        "```"
      ]
    },
    {
      "cell_type": "code",
      "execution_count": null,
      "metadata": {
        "id": "ZXO8B4YJIocE"
      },
      "outputs": [],
      "source": [
        "## Defina a matriz A e o vetor b e chame a função gauss_det\n",
        "# Escreva o seu código aqui"
      ]
    },
    {
      "cell_type": "markdown",
      "metadata": {
        "id": "7Pordp_0V6UV"
      },
      "source": [
        "Agora teste a sua função com o seguinte sistema singular:\n",
        "\n",
        "$\\left[\\begin{array}{rrr}\n",
        "1& -3 & 2\\\\\n",
        "1& -3 & 2\\\\\n",
        "4& -6 & 5\\\\\n",
        "\\end{array}\\right] \\left[\\begin{array}{c}\n",
        "x_1\\\\\n",
        "x_2\\\\\n",
        "x_3\\\\\n",
        "\\end{array}\\right] = \\left[\\begin{array}{r}\n",
        "11\\\\\n",
        "-15\\\\\n",
        "29\\\\\n",
        "\\end{array}\\right] $"
      ]
    },
    {
      "cell_type": "markdown",
      "metadata": {
        "id": "KCWNTgJkWBPS"
      },
      "source": [
        "Você deverá ver a seguinte saída:\n",
        "```\n",
        "---------------------------------------------------------------------------\n",
        "ZeroDivisionError                         Traceback (most recent call last)\n",
        "<ipython-input-6-a897b13a4a0f> in <module>()\n",
        "      4      [4, -6, 5]]\n",
        "      5 b2 = [11, -15, 29]\n",
        "----> 6 (x, det) = gauss_det(A2, b2)\n",
        "      7 print(x,det)\n",
        "\n",
        "<ipython-input-4-9ec781bdbc78> in gauss_det(A, b)\n",
        "     13         for i in range(k+1, n):\n",
        "     14             ## Calcula o fator m\n",
        "---> 15             m = - A[i][k]/A[k][k]\n",
        "     16             ## Atualiza a linha i da matriz, percorrendo todas as colunas j\n",
        "     17             for j in range(k+1, n):\n",
        "\n",
        "ZeroDivisionError: float division by zero\n",
        "\n",
        "```\n",
        "\n",
        "Isso acontece porque o método de Gauss não está preparado para lidar com esses casos. Veremos que com a estratégia da pivotação parcial, ele vai saber lidar melhor com matrizes singulares."
      ]
    },
    {
      "cell_type": "markdown",
      "metadata": {
        "id": "KYYzSoWZWTqX"
      },
      "source": [
        "## Exercício\n",
        "\n",
        "Use a sua implementação do Método de Gauss para resolver o seguinte sistema:\n",
        "\n",
        "$\\left[\\begin{array}{rrrr}\n",
        "6& -2 & 2 & 4\\\\\n",
        "12& -8 & 6 & 10\\\\\n",
        "3& -13 & 9 & 3\\\\\n",
        "-6& 4 & 1 & -18\\\\\n",
        "\\end{array}\\right] \\left[\\begin{array}{c}\n",
        "x_1\\\\\n",
        "x_2\\\\\n",
        "x_3\\\\\n",
        "x_4\n",
        "\\end{array}\\right] = \\left[\\begin{array}{r}\n",
        "16\\\\\n",
        "26\\\\\n",
        "-19\\\\\n",
        "-34\n",
        "\\end{array}\\right] $\n",
        "\n",
        "Qual o determinante da matriz A?"
      ]
    }
  ],
  "metadata": {
    "colab": {
      "collapsed_sections": [],
      "name": "gauss.ipynb",
      "provenance": []
    },
    "kernelspec": {
      "display_name": "Python 3",
      "language": "python",
      "name": "python3"
    },
    "language_info": {
      "codemirror_mode": {
        "name": "ipython",
        "version": 3
      },
      "file_extension": ".py",
      "mimetype": "text/x-python",
      "name": "python",
      "nbconvert_exporter": "python",
      "pygments_lexer": "ipython3",
      "version": "3.6.2"
    }
  },
  "nbformat": 4,
  "nbformat_minor": 0
}
