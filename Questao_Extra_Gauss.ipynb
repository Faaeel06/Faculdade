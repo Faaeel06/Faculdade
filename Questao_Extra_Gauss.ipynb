{
 "cells": [
  {
   "cell_type": "code",
   "execution_count": 45,
   "metadata": {},
   "outputs": [],
   "source": [
    "import numpy as np\n",
    "import math\n",
    "import copy"
   ]
  },
  {
   "cell_type": "code",
   "execution_count": 94,
   "metadata": {},
   "outputs": [],
   "source": [
    "A = np.array([[80.0, 0.0, 30.0, 10.0],\n",
    "             [0.0, 80.0, 10.0, 10.0],\n",
    "             [16.0, 20.0, 60.0, 72.0],\n",
    "             [4.0, 0.0, 0.0, 8.0]])\n",
    "\n",
    "B = np.array([40.0, 27.0, 31.0, 2.0])"
   ]
  },
  {
   "cell_type": "code",
   "execution_count": 96,
   "metadata": {},
   "outputs": [],
   "source": [
    "def subst_retro(A, B):\n",
    "    a = A.copy()\n",
    "    b = B.copy()\n",
    "    n = len(a)\n",
    "    x = n * [0] \n",
    "    \n",
    "    for i in range(n-1, -1, -1):\n",
    "      s = 0\n",
    "      for j in range(i+1, n):\n",
    "            s = s + (a[i][j] * x[j])\n",
    "      x[i] = (b[i] - s)/a[i][i]\n",
    "\n",
    "    return print('x:', x)"
   ]
  },
  {
   "cell_type": "code",
   "execution_count": 95,
   "metadata": {},
   "outputs": [],
   "source": [
    "def gauss(A, B):\n",
    "    a = A.copy()\n",
    "    b = B.copy()\n",
    "   \n",
    "    n = len(A)\n",
    "    \n",
    "    for k in range(n-1):\n",
    "        for i in range(k+1, n):\n",
    "            m = a[i, k]/a[k, k]\n",
    "\n",
    "            a[i,:] = a[i,:] - (m*a[k,:])\n",
    "\n",
    "            b[i] = b[i] - (m*b[k])\n",
    "    \n",
    "    print('A:\\n', a, '\\nB:\\n', b)\n",
    "    x = subst_retro(a, b)\n",
    "    return x"
   ]
  },
  {
   "cell_type": "code",
   "execution_count": 97,
   "metadata": {},
   "outputs": [
    {
     "name": "stdout",
     "output_type": "stream",
     "text": [
      "Iteração 1\n",
      "Iteração 2\n",
      "Iteração 3\n",
      "A:\n",
      " [[80.          0.         30.         10.        ]\n",
      " [ 0.         80.         10.         10.        ]\n",
      " [ 0.          0.         51.5        67.5       ]\n",
      " [ 0.          0.          0.          9.46601942]] \n",
      "B:\n",
      " [40.         27.         16.25        0.47330097]\n",
      "x: [0.4, 0.3, 0.25, 0.05]\n"
     ]
    }
   ],
   "source": [
    "gauss(A, B)"
   ]
  }
 ],
 "metadata": {
  "interpreter": {
   "hash": "1ca5f530d3b3910b8e113408e3f5b786a0fc61403a8e1b66fb3f263db0dffa71"
  },
  "kernelspec": {
   "display_name": "Python 3.10.0 ('venv': venv)",
   "language": "python",
   "name": "python3"
  },
  "language_info": {
   "codemirror_mode": {
    "name": "ipython",
    "version": 3
   },
   "file_extension": ".py",
   "mimetype": "text/x-python",
   "name": "python",
   "nbconvert_exporter": "python",
   "pygments_lexer": "ipython3",
   "version": "3.10.0"
  },
  "orig_nbformat": 4
 },
 "nbformat": 4,
 "nbformat_minor": 2
}
