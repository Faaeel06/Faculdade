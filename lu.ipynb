{
  "cells": [
    {
      "cell_type": "markdown",
      "metadata": {
        "id": "GxpjjlQeGZbH"
      },
      "source": [
        "# Método da Decomposição LU\n",
        "## Objetivos\n",
        "Os objetivos desse notebook são três:\n",
        "\n",
        " 1. Implementar o método da decomposição LU.\n",
        "\n",
        " 2. Implementar o método que resolve o sistema LUx=b.\n",
        "\n",
        " 3. Usar os dois métodos acima para resolver sistemas lineares.\n",
        "\n",
        "## Implementação\n",
        "Nós iremos implementar os algoritmos parte por parte, de acordo com as estratégias mostradas no vídeo. As instruções estão nos comentários nas funções abaixo. Você só precisa editar onde estiver indicado. \n",
        "\n",
        "Para executar uma célula, selecione a célula e pressione ```Ctrl + Enter```. Após implementar as funções abaixo, você deve executar cada uma das células, preferencialmente na ordem em que elas aparecem.\n"
      ]
    },
    {
      "cell_type": "markdown",
      "metadata": {
        "id": "n-5kk5gaGZbI"
      },
      "source": [
        "### Método das Substituições Sucessivas\n",
        "\n",
        "Na célula abaixo, copie e cole a sua implementação das substituições sucessivas que você fez no notebook triangular.ipynb."
      ]
    },
    {
      "cell_type": "code",
      "execution_count": 1,
      "metadata": {
        "id": "CIa8o74UGZbJ"
      },
      "outputs": [],
      "source": [
        "def substituicoes_sucessivas(A, B):\n",
        "    '''Executa o método das substituições sucessivas para resolver o sistema \n",
        "       linear triangular inferior Ax=b.\n",
        "       Parâmetros de entrada: A é uma matriz triangular inferior e b é o vetor constante. \n",
        "       Saída: vetor x\n",
        "    '''\n",
        "    a = A.copy()\n",
        "    b = B.copy()\n",
        "    ## n é a ordem da matriz A\n",
        "    n = len(A)\n",
        "    \n",
        "    x = n * [0]\n",
        "    # escreva o código aqui\n",
        "    for i  in range(0, n):\n",
        "      s = 0\n",
        "      for j in range(0, i):\n",
        "         s = s + a[i][j] * x[j]\n",
        "      x[i] = (b[i] - s)/A[i][i]\n",
        "\n",
        "    \n",
        "    return x"
      ]
    },
    {
      "cell_type": "markdown",
      "metadata": {
        "id": "5BpsJYM-HmqP"
      },
      "source": [
        "A função acima já foi testada. Não se esqueça de executá-la antes de proceder."
      ]
    },
    {
      "cell_type": "markdown",
      "metadata": {
        "id": "3p-FbrzYGZbR"
      },
      "source": [
        "### Decomposição LU\n",
        "\n",
        "Iremos definir uma função que decompõe uma matriz em A no produto de duas matrizes LU.\n",
        "\n",
        "Para isso, precisaremos da sua função identidade criada no notebook gauss_jordan.ipynb. Copie e cole a sua função na célula abaixo:"
      ]
    },
    {
      "cell_type": "code",
      "execution_count": 2,
      "metadata": {
        "id": "crs49hN3GZbR"
      },
      "outputs": [],
      "source": [
        "def identidade(n):\n",
        "    '''Cria uma matriz identidade de ordem n.\n",
        "    Parâmetros de entrada:  n é a ordem da matriz.\n",
        "    Saída: matriz identidade de ordem n.\n",
        "    '''\n",
        "    # Escreva o seu código aqui\n",
        "    m = []\n",
        "    for i in range(0, n):\n",
        "        linha = [0] * n\n",
        "        linha[i] = 1\n",
        "        m.append(linha)\n",
        "    return m\n",
        "    "
      ]
    },
    {
      "cell_type": "markdown",
      "metadata": {
        "id": "g_fHAGvuGZbT"
      },
      "source": [
        "**Não se esqueça de executar a célula de código acima!**\n",
        "\n",
        "A função já foi testada então iremos implementar a função lu. Para isso, é recomendável que você inicie a partir do código usado para a função gauss, pois vimos que a matriz U é a mesma matriz triangular superior gerada pelo método de Gauss. Modifique o método de Gauss, seguindo a estratégia a seguir:\n",
        "\n",
        " 1. Inicialize a matriz L com a matriz identidade (essa parte já está feita).\n",
        "\n",
        " 2. Ao calcular o fator m, popule a matriz L na posição correspondente ao fator m calculado.\n",
        "\n",
        " 3. Remova o código referente à atualização do vetor b, pois não será mais necessário.\n",
        "\n",
        " 4. Também remova a parte de cálculo do vetor x, pois só será utilizado na função seguinte."
      ]
    },
    {
      "cell_type": "code",
      "execution_count": 3,
      "metadata": {
        "id": "vLiL9gm8GZbU"
      },
      "outputs": [],
      "source": [
        "def lu(A):\n",
        "    '''\n",
        "    Decompõe a matriz A no produto de duas matrizes L e U. Onde L é uma matriz \n",
        "    triangular inferior unitária e U é uma matriz triangular superior.\n",
        "    Parâmetros de entrada: A é uma matriz quadrada de ordem n.\n",
        "    Saída: (L,U) tupla com as matrizes L e U\n",
        "    '''\n",
        "    a = A.copy()\n",
        "    n = len(a)\n",
        "    \n",
        "    ## Inicializa a matriz L com a matriz identidade\n",
        "    L = identidade(n)\n",
        "    \n",
        "    # Escreva o seu código aqui\n",
        "    for k in range(0, n-1):\n",
        "        for i in range(k+1, n):\n",
        "            m = - a[i][k]/a[k][k]\n",
        "            L[i][k] = -m\n",
        "            for j in range(k+1, n):\n",
        "                a[i][j] = m * a[k][j] + a[i][j]\n",
        "            \n",
        "            a[i][k] = 0\n",
        "\n",
        "    return (L, a)"
      ]
    },
    {
      "cell_type": "markdown",
      "metadata": {
        "id": "dScdUcq8GZbW"
      },
      "source": [
        "Vamos testar a função com o seguinte exemplo:"
      ]
    },
    {
      "cell_type": "code",
      "execution_count": 5,
      "metadata": {
        "id": "iJeg2L3hGZbW"
      },
      "outputs": [
        {
          "name": "stdout",
          "output_type": "stream",
          "text": [
            "L: \n",
            "    1.000     0.000     0.000 \n",
            "   -2.000     1.000     0.000 \n",
            "    4.000     3.000     1.000 \n",
            "\n",
            "U: \n",
            "    1.000    -3.000     2.000 \n",
            "    0.000     2.000     3.000 \n",
            "    0.000     0.000   -12.000 \n",
            "\n"
          ]
        }
      ],
      "source": [
        "def formata_matriz(M):\n",
        "    m = len(M) # número de linhas\n",
        "    n = len(M[0]) # número de colunas\n",
        "    s = \"\"\n",
        "    for i in range(m):\n",
        "        for j in range(n):\n",
        "           s += \"%9.3f \" % M[i][j]\n",
        "        s += \"\\n\"\n",
        "    return s\n",
        "\n",
        "A = [[1, -3, 2],\n",
        "     [-2, 8, -1],\n",
        "     [4, -6, 5]]\n",
        "(L, U) = lu(A)\n",
        "print(\"L: \\n%s\" % formata_matriz(L))\n",
        "print(\"U: \\n%s\" % formata_matriz(U))"
      ]
    },
    {
      "cell_type": "markdown",
      "metadata": {
        "id": "pIY9b8EKGZbb"
      },
      "source": [
        "Se estiver tudo ok, ao executar a célula acima, você deve ver a resposta:\n",
        "```\n",
        "L: \n",
        "    1.000     0.000     0.000 \n",
        "   -2.000     1.000     0.000 \n",
        "    4.000     3.000     1.000 \n",
        "\n",
        "U: \n",
        "    1.000    -3.000     2.000 \n",
        "    0.000     2.000     3.000 \n",
        "    0.000     0.000   -12.000\n",
        "```"
      ]
    },
    {
      "cell_type": "markdown",
      "metadata": {
        "id": "mjbrzn09GZbb"
      },
      "source": [
        "### Resolução de sistema linear usando decomposição LU\n",
        "\n",
        "Agora vamos implementar a função **lux(L,U,b)**.\n",
        "Antes disso, copie e cole a sua função substituicoes_retroativas implementada no notebook triangular.ipynb.\n",
        "\n",
        "\n",
        "Implemente a função lux, seguindo a estratégia a seguir:\n",
        "\n",
        " 1. Resolva o sistema Ly=b.\n",
        "\n",
        " 2. Resolva o sistema Ux=y.\n",
        "\n",
        " 3. Retorne x."
      ]
    },
    {
      "cell_type": "code",
      "execution_count": 4,
      "metadata": {
        "id": "AL1q0fozGZbb"
      },
      "outputs": [],
      "source": [
        "def substituicoes_retroativas(A, B):\n",
        "   '''Executa o método das substituições retroativas para resolver o sistema \n",
        "      linear triangular superior Ax=b.\n",
        "      Parâmetros de entrada: A é uma matriz triangular superior e b é o vetor constante. \n",
        "   '''\n",
        "   a = A.copy()\n",
        "   b = B.copy()\n",
        "      ## n é a ordem da matriz A\n",
        "   n = len(A)\n",
        "      \n",
        "      ## inicializa o vetor x com tamanho n e elementos iguais a 0\n",
        "   x = n * [0] \n",
        "      \n",
        "      # escreva o seu código aqui\n",
        "   for i in range(n-1, -1, -1):\n",
        "      s = 0\n",
        "      for j in range(i+1, n):\n",
        "         s = s + a[i][j] * x[j]\n",
        "      \n",
        "      x[i] = (b[i] - s)/a[i][i]\n",
        "      \n",
        "   return x"
      ]
    },
    {
      "cell_type": "code",
      "execution_count": 6,
      "metadata": {
        "id": "VZi3vEmLKOHq"
      },
      "outputs": [],
      "source": [
        "def lux(L,U,b):\n",
        "    '''\n",
        "    Resolve o sistema LUx=b.\n",
        "    Esse método resolve os dois sistemas lineares triangulares.\n",
        "    Parâmetros de entrada: L é uma matriz triangular inferior de ordem n,\n",
        "    U é uma matriz triangular superior e b é o vetor constante.\n",
        "    Saída: vetor x solução do sistema.\n",
        "    '''\n",
        "    \n",
        "    # Escreva o seu código aqui\n",
        "    y = substituicoes_sucessivas(L, b)\n",
        "\n",
        "    x = substituicoes_retroativas(U, y)\n",
        "    \n",
        "    return x"
      ]
    },
    {
      "cell_type": "markdown",
      "metadata": {
        "id": "GuTbkZK2GZbd"
      },
      "source": [
        "Vamos testar a função com o seguinte exemplo:"
      ]
    },
    {
      "cell_type": "code",
      "execution_count": 7,
      "metadata": {
        "id": "SB5WN5fnGZbd"
      },
      "outputs": [
        {
          "name": "stdout",
          "output_type": "stream",
          "text": [
            "[2.0, -1.0, 3.0]\n"
          ]
        }
      ],
      "source": [
        "A = [[1, -3, 2],\n",
        "     [-2, 8, -1],\n",
        "     [4, -6, 5]]\n",
        "b = [11, -15, 29]\n",
        "(L, U) = lu(A)\n",
        "x = lux(L, U, b)\n",
        "print(x)"
      ]
    },
    {
      "cell_type": "markdown",
      "metadata": {
        "id": "Nx3FSeWsIvOX"
      },
      "source": [
        "Se tudo deu certo, você deve obter a seguinte resposta:\n",
        "\n",
        "```\n",
        "[2.0, -1.0, 3.0]\n",
        "\n",
        "```\n",
        "\n"
      ]
    },
    {
      "cell_type": "markdown",
      "metadata": {
        "id": "3YbPwPHnGZbf"
      },
      "source": [
        "## Exercício\n",
        "\n",
        "Resolva o sistema linear abaixo usando decomposição LU.\n",
        "\n",
        "$\\left[\\begin{array}{rrr}\n",
        "1& 2 & 4\\\\\n",
        "2& 0 & 2\\\\\n",
        "4& 1 & 3\\\\\n",
        "\\end{array}\\right] \\left[\\begin{array}{c}\n",
        "x_1\\\\\n",
        "x_2\\\\\n",
        "x_3\\\\\n",
        "\\end{array}\\right] = \\left[\\begin{array}{r}\n",
        "13\\\\\n",
        "12\\\\\n",
        "25\\\\\n",
        "\\end{array}\\right] $\n"
      ]
    },
    {
      "cell_type": "code",
      "execution_count": null,
      "metadata": {
        "id": "XwqNIX38GZbg"
      },
      "outputs": [],
      "source": [
        "## Defina a matriz A e resolva o sistema pela fatoração LU\n",
        "\n",
        "# Escreva o seu código aqui\n"
      ]
    }
  ],
  "metadata": {
    "colab": {
      "collapsed_sections": [],
      "name": "lu.ipynb",
      "provenance": []
    },
    "interpreter": {
      "hash": "1ca5f530d3b3910b8e113408e3f5b786a0fc61403a8e1b66fb3f263db0dffa71"
    },
    "kernelspec": {
      "display_name": "Python 3.10.0 ('venv': venv)",
      "language": "python",
      "name": "python3"
    },
    "language_info": {
      "codemirror_mode": {
        "name": "ipython",
        "version": 3
      },
      "file_extension": ".py",
      "mimetype": "text/x-python",
      "name": "python",
      "nbconvert_exporter": "python",
      "pygments_lexer": "ipython3",
      "version": "3.10.0"
    }
  },
  "nbformat": 4,
  "nbformat_minor": 0
}
