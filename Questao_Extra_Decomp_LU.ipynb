{
 "cells": [
  {
   "cell_type": "code",
   "execution_count": 16,
   "metadata": {},
   "outputs": [],
   "source": [
    "import numpy as np\n",
    "import math\n",
    "import copy"
   ]
  },
  {
   "cell_type": "code",
   "execution_count": 17,
   "metadata": {},
   "outputs": [],
   "source": [
    "A = np.array([[80.0, 0.0, 30.0, 10.0],\n",
    "             [0.0, 80.0, 10.0, 10.0],\n",
    "             [16.0, 20.0, 60.0, 72.0],\n",
    "             [4.0, 0.0, 0.0, 8.0]])\n",
    "\n",
    "B = np.array([40.0, 27.0, 31.0, 2.0])"
   ]
  },
  {
   "cell_type": "code",
   "execution_count": 18,
   "metadata": {},
   "outputs": [],
   "source": [
    "def subst_sucessivas(A, B):\n",
    "    \n",
    "    a = A.copy()\n",
    "    b = B.copy()\n",
    "\n",
    "    n = len(A)\n",
    "    \n",
    "    x = n * [0]\n",
    "\n",
    "    for i  in range(0, n):\n",
    "      s = 0\n",
    "      for j in range(0, i):\n",
    "         s = s + a[i][j] * x[j]\n",
    "      x[i] = (b[i] - s)/A[i][i]\n",
    "\n",
    "    \n",
    "    return x"
   ]
  },
  {
   "cell_type": "code",
   "execution_count": 20,
   "metadata": {},
   "outputs": [],
   "source": [
    "def identidade(n):\n",
    "\n",
    "    m_i = []\n",
    "    for i in range(0, n):\n",
    "        linha = [0] * n\n",
    "        linha[i] = 1\n",
    "        m_i.append(linha)\n",
    "    return m_i\n",
    "### Pelo numpy\n",
    "# n = len(A)\n",
    "# m_i = np.eye(n)\n",
    "# print(m_i)"
   ]
  },
  {
   "cell_type": "code",
   "execution_count": 21,
   "metadata": {},
   "outputs": [],
   "source": [
    "def lu(A):\n",
    "\n",
    "    a = A.copy()\n",
    "    n = len(a)\n",
    "    \n",
    "    L = identidade(n)\n",
    "    \n",
    "    for k in range(0, n-1):\n",
    "        for i in range(k+1, n):\n",
    "            m = - a[i][k]/a[k][k]\n",
    "            L[i][k] = -m\n",
    "            for j in range(k+1, n):\n",
    "                a[i][j] = m * a[k][j] + a[i][j]\n",
    "            \n",
    "            a[i][k] = 0\n",
    "\n",
    "    return (L, a)"
   ]
  },
  {
   "cell_type": "code",
   "execution_count": 22,
   "metadata": {},
   "outputs": [
    {
     "name": "stdout",
     "output_type": "stream",
     "text": [
      "L: \n",
      "    1.000     0.000     0.000     0.000 \n",
      "    0.000     1.000     0.000     0.000 \n",
      "    0.200     0.250     1.000     0.000 \n",
      "    0.050     0.000    -0.029     1.000 \n",
      "\n",
      "U: \n",
      "   80.000     0.000    30.000    10.000 \n",
      "    0.000    80.000    10.000    10.000 \n",
      "    0.000     0.000    51.500    67.500 \n",
      "    0.000     0.000     0.000     9.466 \n",
      "\n"
     ]
    }
   ],
   "source": [
    "def formata_matriz(M):\n",
    "    m = len(M)\n",
    "    n = len(M[0])\n",
    "    s = \"\"\n",
    "    for i in range(m):\n",
    "        for j in range(n):\n",
    "           s += \"%9.3f \" % M[i][j]\n",
    "        s += \"\\n\"\n",
    "    return s\n",
    "\n",
    "a = A.copy()\n",
    "(L, U) = lu(a)\n",
    "print(\"L: \\n%s\" % formata_matriz(L))\n",
    "print(\"U: \\n%s\" % formata_matriz(U))"
   ]
  },
  {
   "cell_type": "code",
   "execution_count": 23,
   "metadata": {},
   "outputs": [],
   "source": [
    "def subst_retro(A, B):\n",
    "  \n",
    "   a = A.copy()\n",
    "   b = B.copy()\n",
    "   \n",
    "   n = len(A)\n",
    "      \n",
    "   \n",
    "   x = n * [0] \n",
    "      \n",
    "   \n",
    "   for i in range(n-1, -1, -1):\n",
    "      s = 0\n",
    "      for j in range(i+1, n):\n",
    "         s = s + a[i][j] * x[j]\n",
    "      \n",
    "      x[i] = (b[i] - s)/a[i][i]\n",
    "      \n",
    "   return x"
   ]
  },
  {
   "cell_type": "code",
   "execution_count": 24,
   "metadata": {},
   "outputs": [],
   "source": [
    "def lux(L,U,b):\n",
    "\n",
    "    \n",
    "\n",
    "    y = subst_sucessivas(L, b)\n",
    "\n",
    "    x = subst_retro(U, y)\n",
    "    \n",
    "    return x"
   ]
  },
  {
   "cell_type": "code",
   "execution_count": 25,
   "metadata": {},
   "outputs": [
    {
     "name": "stdout",
     "output_type": "stream",
     "text": [
      "[0.4, 0.3, 0.25, 0.04999999999999999]\n"
     ]
    }
   ],
   "source": [
    "a = A.copy()\n",
    "b = B.copy()\n",
    "(L, U) = lu(a)\n",
    "x = lux(L, U, b)\n",
    "print(x)"
   ]
  }
 ],
 "metadata": {
  "interpreter": {
   "hash": "1ca5f530d3b3910b8e113408e3f5b786a0fc61403a8e1b66fb3f263db0dffa71"
  },
  "kernelspec": {
   "display_name": "Python 3.10.0 ('venv': venv)",
   "language": "python",
   "name": "python3"
  },
  "language_info": {
   "codemirror_mode": {
    "name": "ipython",
    "version": 3
   },
   "file_extension": ".py",
   "mimetype": "text/x-python",
   "name": "python",
   "nbconvert_exporter": "python",
   "pygments_lexer": "ipython3",
   "version": "3.10.0"
  },
  "orig_nbformat": 4
 },
 "nbformat": 4,
 "nbformat_minor": 2
}
